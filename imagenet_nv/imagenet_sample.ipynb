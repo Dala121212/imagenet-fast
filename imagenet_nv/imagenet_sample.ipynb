{
 "cells": [
  {
   "cell_type": "code",
   "execution_count": 1,
   "metadata": {},
   "outputs": [],
   "source": [
    "%matplotlib inline\n",
    "%reload_ext autoreload\n",
    "%autoreload 2"
   ]
  },
  {
   "cell_type": "markdown",
   "metadata": {},
   "source": [
    "## Imagenet"
   ]
  },
  {
   "cell_type": "code",
   "execution_count": 2,
   "metadata": {},
   "outputs": [],
   "source": [
    "from fastai.conv_learner import *\n",
    "from torchvision import transforms, datasets\n",
    "PATH = Path.home()/\"data/imagenet-sz/160\""
   ]
  },
  {
   "cell_type": "code",
   "execution_count": 3,
   "metadata": {},
   "outputs": [
    {
     "data": {
      "text/plain": [
       "[PosixPath('/home/ubuntu/data/imagenet-sz/160/models'),\n",
       " PosixPath('/home/ubuntu/data/imagenet-sz/160/val'),\n",
       " PosixPath('/home/ubuntu/data/imagenet-sz/160/tmp'),\n",
       " PosixPath('/home/ubuntu/data/imagenet-sz/160/train'),\n",
       " PosixPath('/home/ubuntu/data/imagenet-sz/160/val2')]"
      ]
     },
     "execution_count": 3,
     "metadata": {},
     "output_type": "execute_result"
    }
   ],
   "source": [
    "list(PATH.iterdir())"
   ]
  },
  {
   "cell_type": "code",
   "execution_count": 4,
   "metadata": {},
   "outputs": [],
   "source": [
    "bs=64\n",
    "size=128"
   ]
  },
  {
   "cell_type": "code",
   "execution_count": 5,
   "metadata": {},
   "outputs": [],
   "source": [
    "def get_data(size):\n",
    "    traindir = PATH/'val'\n",
    "    # traindir = PATH/'train'\n",
    "    valdir = PATH/'val'\n",
    "    normalize = transforms.Normalize(mean=[0.485, 0.456, 0.406], std=[0.229, 0.224, 0.225])\n",
    "\n",
    "    train_tfms = transforms.Compose([\n",
    "        transforms.RandomResizedCrop(size),\n",
    "        transforms.RandomHorizontalFlip(),\n",
    "        transforms.ToTensor(), normalize,\n",
    "    ])\n",
    "\n",
    "    train_dataset = datasets.ImageFolder(traindir, train_tfms)\n",
    "    train_loader = torch.utils.data.DataLoader(\n",
    "        train_dataset, batch_size=bs,\n",
    "        num_workers=8, pin_memory=True)\n",
    "\n",
    "    val_tfms = transforms.Compose([\n",
    "        transforms.Resize(int(size*1.14)),\n",
    "        transforms.CenterCrop(size),\n",
    "        transforms.ToTensor(), normalize,\n",
    "    ])\n",
    "    val_loader = torch.utils.data.DataLoader(\n",
    "        datasets.ImageFolder(valdir, val_tfms),\n",
    "        batch_size=bs, shuffle=False,\n",
    "        num_workers=8, pin_memory=True)\n",
    "    \n",
    "    md = ModelData(PATH, train_loader, val_loader)\n",
    "    md.sz = size\n",
    "    return md"
   ]
  },
  {
   "cell_type": "code",
   "execution_count": 6,
   "metadata": {},
   "outputs": [],
   "source": [
    "data = [get_data(128), get_data(288)]"
   ]
  },
  {
   "cell_type": "code",
   "execution_count": 7,
   "metadata": {},
   "outputs": [],
   "source": [
    "from models.resnet import resnet34\n",
    "m = resnet34()"
   ]
  },
  {
   "cell_type": "code",
   "execution_count": 8,
   "metadata": {},
   "outputs": [],
   "source": [
    "m = nn.DataParallel(m, [0,1,2,3])"
   ]
  },
  {
   "cell_type": "code",
   "execution_count": 9,
   "metadata": {},
   "outputs": [],
   "source": [
    "learn = ConvLearner.from_model_data(m, data[0])\n",
    "learn.crit = nn.CrossEntropyLoss()\n",
    "learn.metrics = [accuracy]\n",
    "wd = 1e-4\n",
    "lr = 1.3"
   ]
  },
  {
   "cell_type": "code",
   "execution_count": 10,
   "metadata": {},
   "outputs": [],
   "source": [
    "def_phase = {'epochs':1, 'opt_fn':optim.SGD, 'wds':1e-4}\n",
    "\n",
    "phases = [\n",
    "    TrainingPhase(**def_phase, lr = (1e-3,1e-1), lr_decay=DecayType.LINEAR),\n",
    "    TrainingPhase(**def_phase, lr = 1e-1)]"
   ]
  },
  {
   "cell_type": "code",
   "execution_count": 11,
   "metadata": {},
   "outputs": [
    {
     "data": {
      "application/vnd.jupyter.widget-view+json": {
       "model_id": "9141b463fdd540ab84847b4571a35ec7",
       "version_major": 2,
       "version_minor": 0
      },
      "text/plain": [
       "HBox(children=(IntProgress(value=0, description='Epoch', max=2), HTML(value='')))"
      ]
     },
     "metadata": {},
     "output_type": "display_data"
    },
    {
     "name": "stdout",
     "output_type": "stream",
     "text": [
      "epoch      trn_loss   val_loss   accuracy                   \n",
      "    0      7.198716   6.937332   0.001057  \n",
      "    1      7.219436   7.024954   0.001182                   \n",
      "\n"
     ]
    },
    {
     "data": {
      "text/plain": [
       "[7.024953890698897, 0.001181641029893445]"
      ]
     },
     "execution_count": 11,
     "metadata": {},
     "output_type": "execute_result"
    }
   ],
   "source": [
    "# todo pass sampler, loss scale\n",
    "learn.fit_opt_sched(phases, data_list=data)"
   ]
  },
  {
   "cell_type": "code",
   "execution_count": 67,
   "metadata": {},
   "outputs": [],
   "source": [
    "x,y = next(iter(learn.data.trn_dl))"
   ]
  },
  {
   "cell_type": "code",
   "execution_count": 68,
   "metadata": {},
   "outputs": [
    {
     "data": {
      "text/plain": [
       "torch.Size([64, 3, 288, 288])"
      ]
     },
     "execution_count": 68,
     "metadata": {},
     "output_type": "execute_result"
    }
   ],
   "source": [
    "x.shape"
   ]
  },
  {
   "cell_type": "code",
   "execution_count": 16,
   "metadata": {},
   "outputs": [
    {
     "data": {
      "image/png": "[encoded data removed]",
      "text/plain": [
       "<Figure size 864x288 with 2 Axes>"
      ]
     },
     "metadata": {},
     "output_type": "display_data"
    }
   ],
   "source": [
    "learn.sched.plot_lr()"
   ]
  },
  {
   "cell_type": "code",
   "execution_count": null,
   "metadata": {},
   "outputs": [],
   "source": []
  },
  {
   "cell_type": "code",
   "execution_count": 63,
   "metadata": {},
   "outputs": [],
   "source": [
    "class UpdateDataCB(Callback):\n",
    "    def __init__(self, learn, epoch_lu):\n",
    "        self.learn,self.phase,self.epoch_lu = learn,0,epoch_lu\n",
    "        \n",
    "    def on_phase_begin(self):\n",
    "        if self.phase in self.epoch_lu:\n",
    "            sz = epoch_lu[self.phase]\n",
    "            print(f'\\nUpdating size to {sz}\\n')\n",
    "            self.learn.set_data(get_data(sz))\n",
    "        self.phase += 1"
   ]
  },
  {
   "cell_type": "code",
   "execution_count": 64,
   "metadata": {},
   "outputs": [],
   "source": [
    "cb = UpdateDataCB(learn)"
   ]
  }
 ],
 "metadata": {
  "kernelspec": {
   "display_name": "Python 3",
   "language": "python",
   "name": "python3"
  },
  "language_info": {
   "codemirror_mode": {
    "name": "ipython",
    "version": 3
   },
   "file_extension": ".py",
   "mimetype": "text/x-python",
   "name": "python",
   "nbconvert_exporter": "python",
   "pygments_lexer": "ipython3",
   "version": "3.6.5"
  }
 },
 "nbformat": 4,
 "nbformat_minor": 2
}
